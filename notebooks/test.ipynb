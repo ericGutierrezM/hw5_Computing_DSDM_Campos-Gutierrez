{
 "cells": [
  {
   "cell_type": "code",
   "execution_count": 12,
   "id": "f9c549e9",
   "metadata": {},
   "outputs": [
    {
     "name": "stdout",
     "output_type": "stream",
     "text": [
      "Test ROC AUC Score: 0.65\n"
     ]
    },
    {
     "name": "stderr",
     "output_type": "stream",
     "text": [
      "D:\\Users\\Eric\\Desktop\\BSE\\Computing for Data Science\\hw5\\hw5_Computing_DSDM_Campos-Gutierrez\\src\\diabetesmellitus\\load_clean_data\\fill_nan_mean.py:8: SettingWithCopyWarning: \n",
      "A value is trying to be set on a copy of a slice from a DataFrame.\n",
      "Try using .loc[row_indexer,col_indexer] = value instead\n",
      "\n",
      "See the caveats in the documentation: https://pandas.pydata.org/pandas-docs/stable/user_guide/indexing.html#returning-a-view-versus-a-copy\n",
      "  self.data[['height','weight']] = self.data[['height','weight']].fillna(self.data[['height','weight']].mean())\n",
      "D:\\Users\\Eric\\Desktop\\BSE\\Computing for Data Science\\hw5\\hw5_Computing_DSDM_Campos-Gutierrez\\src\\diabetesmellitus\\load_clean_data\\fill_nan_mean.py:8: SettingWithCopyWarning: \n",
      "A value is trying to be set on a copy of a slice from a DataFrame.\n",
      "Try using .loc[row_indexer,col_indexer] = value instead\n",
      "\n",
      "See the caveats in the documentation: https://pandas.pydata.org/pandas-docs/stable/user_guide/indexing.html#returning-a-view-versus-a-copy\n",
      "  self.data[['height','weight']] = self.data[['height','weight']].fillna(self.data[['height','weight']].mean())\n",
      "D:\\Users\\Eric\\Desktop\\BSE\\Computing for Data Science\\hw5\\hw5_Computing_DSDM_Campos-Gutierrez\\src\\diabetesmellitus\\load_clean_data\\transform_data.py:15: SettingWithCopyWarning: \n",
      "A value is trying to be set on a copy of a slice from a DataFrame.\n",
      "Try using .loc[row_indexer,col_indexer] = value instead\n",
      "\n",
      "See the caveats in the documentation: https://pandas.pydata.org/pandas-docs/stable/user_guide/indexing.html#returning-a-view-versus-a-copy\n",
      "  self.data['gender'] = self.data[\"gender\"].map({\"M\": 1, \"F\": 0})\n",
      "D:\\Users\\Eric\\Desktop\\BSE\\Computing for Data Science\\hw5\\hw5_Computing_DSDM_Campos-Gutierrez\\src\\diabetesmellitus\\load_clean_data\\transform_data.py:15: SettingWithCopyWarning: \n",
      "A value is trying to be set on a copy of a slice from a DataFrame.\n",
      "Try using .loc[row_indexer,col_indexer] = value instead\n",
      "\n",
      "See the caveats in the documentation: https://pandas.pydata.org/pandas-docs/stable/user_guide/indexing.html#returning-a-view-versus-a-copy\n",
      "  self.data['gender'] = self.data[\"gender\"].map({\"M\": 1, \"F\": 0})\n",
      "d:\\Users\\Eric\\Desktop\\BSE\\Computing for Data Science\\hw5\\hw5_Computing_DSDM_Campos-Gutierrez\\.venv\\Lib\\site-packages\\sklearn\\utils\\validation.py:1406: DataConversionWarning: A column-vector y was passed when a 1d array was expected. Please change the shape of y to (n_samples, ), for example using ravel().\n",
      "  y = column_or_1d(y, warn=True)\n"
     ]
    }
   ],
   "source": [
    "from diabetesmellitus.load_clean_data.load_data import LoadData\n",
    "from diabetesmellitus.load_clean_data.remove_nan import RemoveNaN\n",
    "from diabetesmellitus.load_clean_data.fill_nan_mean import FillNaN\n",
    "from diabetesmellitus.load_clean_data.transform_data import TransformEthnicity, TransformGender\n",
    "\n",
    "from diabetesmellitus.train_model.fit_model import Model\n",
    "\n",
    "import pandas as pd\n",
    "from sklearn.metrics import roc_auc_score\n",
    "\n",
    "\n",
    "# Load data\n",
    "data = LoadData('../data/sample_diabetes_mellitus_data.csv')\n",
    "data_train, data_test = data.load_data()\n",
    "\n",
    "# Remove NaN\n",
    "data_train = RemoveNaN(data_train)\n",
    "data_train = data_train.remove_nan()\n",
    "data_test = RemoveNaN(data_test)\n",
    "data_test = data_test.remove_nan()\n",
    "\n",
    "# Fill NaN\n",
    "data_train = FillNaN(data_train)\n",
    "data_train = data_train.fill_nan()\n",
    "data_test = FillNaN(data_test)\n",
    "data_test = data_test.fill_nan()\n",
    "\n",
    "# Transform features (Gender)\n",
    "data_train = TransformGender(data_train)\n",
    "data_train = data_train.transform()\n",
    "data_test = TransformGender(data_test)\n",
    "data_test = data_test.transform()\n",
    "\n",
    "# Transform features (Ethnicity)\n",
    "data_train = TransformEthnicity(data_train)\n",
    "data_train = data_train.transform()\n",
    "data_test = TransformEthnicity(data_test)\n",
    "data_test = data_test.transform()\n",
    "\n",
    "# Fit model\n",
    "model = Model(['age', 'height', 'weight', 'aids', 'cirrhosis', 'hepatic_failure','immunosuppression','leukemia','lymphoma','solid_tumor_with_metastasis'], \n",
    "              ['diabetes_mellitus'], \n",
    "              None, \n",
    "              1.0, \n",
    "              'lbfgs', \n",
    "              2000)\n",
    "\n",
    "model.train(data_train)\n",
    "\n",
    "test_prediction = model.predict(data_test)\n",
    "test_pred_class = (test_prediction >= 0.5).astype(int)\n",
    "data_test['predictions'] = test_pred_class\n",
    "\n",
    "test_roc = roc_auc_score(data_test['diabetes_mellitus'], test_prediction)\n",
    "print(f'Test ROC AUC Score: {round(test_roc,2)}')"
   ]
  }
 ],
 "metadata": {
  "kernelspec": {
   "display_name": "HW5 (Python 3.13)",
   "language": "python",
   "name": "hw5-kernel"
  },
  "language_info": {
   "codemirror_mode": {
    "name": "ipython",
    "version": 3
   },
   "file_extension": ".py",
   "mimetype": "text/x-python",
   "name": "python",
   "nbconvert_exporter": "python",
   "pygments_lexer": "ipython3",
   "version": "3.13.7"
  }
 },
 "nbformat": 4,
 "nbformat_minor": 5
}
